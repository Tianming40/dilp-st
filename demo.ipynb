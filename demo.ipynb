{
 "cells": [
  {
   "cell_type": "code",
   "execution_count": 1,
   "metadata": {},
   "outputs": [],
   "source": [
    "import random\n",
    "import sys\n",
    "sys.path.append('src/')\n",
    "sys.path.append('experiments/')\n",
    "import matplotlib.pyplot as plt\n",
    "from sklearn.metrics import accuracy_score, roc_curve, auc, mean_squared_error\n",
    "from sklearn.model_selection import train_test_split\n",
    "\n",
    "from src.clause_generator import ClauseGenerator\n",
    "from src.ilp_solver import ILPSolver\n",
    "from src.ilp_problem import ILPProblem\n",
    "from src.data_utils import DataUtils\n",
    "from src.visualize import Visualize\n",
    "from experiments.parameters import get_parameters\n",
    "from experiments.eval_utils import get_dataset_with_noise, compute_auc, compute_mse, extract"
   ]
  },
  {
   "cell_type": "code",
   "execution_count": 2,
   "metadata": {},
   "outputs": [],
   "source": [
    "### problem\n",
    "problem = 'member'\n",
    "#problem = 'delete'\n",
    "#problem = 'plus'\n",
    "#problem = 'append'\n",
    "#problem = 'subtree'\n",
    "\n",
    "### noise_rate\n",
    "noise_rate = 0.05"
   ]
  },
  {
   "cell_type": "code",
   "execution_count": 5,
   "metadata": {},
   "outputs": [
    {
     "name": "stdout",
     "output_type": "stream",
     "text": [
      "======= POSITIVE EXAMPLES =======\n",
      "[member(c,f(c,f(a,f(c,f(a,*))))), member(a,f(a,f(c,*))), member(b,f(c,f(a,f(a,f(b,*))))), member(c,f(c,f(b,f(a,*)))), member(b,f(b,f(c,f(b,*)))), member(b,f(c,f(b,f(c,f(a,*))))), member(a,f(a,f(c,*))), member(c,f(c,f(b,f(c,f(c,*))))), member(c,f(b,f(a,f(c,f(a,*))))), member(c,f(a,f(c,f(c,f(a,*))))), member(c,f(c,f(a,*))), member(b,f(a,f(b,f(b,f(b,*))))), member(a,f(c,f(a,*))), member(a,f(a,f(c,f(c,*)))), member(b,f(c,f(c,f(b,*)))), member(b,f(b,f(c,*))), member(b,f(a,f(c,f(b,*)))), member(c,f(b,f(c,*))), member(a,f(b,f(a,f(b,*)))), member(b,f(b,f(c,*))), member(b,f(b,f(a,f(a,f(a,*))))), member(a,f(c,f(c,f(a,f(b,*))))), member(c,f(c,f(a,*))), member(b,f(b,f(c,f(c,*)))), member(b,f(a,f(a,f(b,f(b,*))))), member(a,f(b,f(a,f(c,*)))), member(a,f(a,f(c,f(b,f(b,*))))), member(c,f(c,f(c,*))), member(a,f(a,f(c,f(a,f(c,*))))), member(c,f(c,f(a,f(c,*)))), member(a,f(c,f(a,f(c,*)))), member(a,f(b,f(b,f(c,f(a,*))))), member(c,f(c,f(b,*))), member(a,f(c,f(b,f(a,f(b,*))))), member(a,f(c,f(b,*)))]\n",
      "======= NEGATIVE EXAMPLES =======\n",
      "[member(c,f(b,f(a,f(b,f(a,*))))), member(a,f(b,f(c,f(b,*)))), member(c,f(b,f(b,f(b,*)))), member(b,f(c,f(a,f(a,f(a,*))))), member(b,f(c,f(c,f(c,*)))), member(a,f(b,f(c,f(c,f(c,*))))), member(b,f(a,*)), member(c,f(a,f(b,f(b,f(b,*))))), member(b,f(a,f(c,f(a,*)))), member(b,f(c,f(a,*))), member(b,f(a,f(c,f(c,f(a,*))))), member(a,f(b,f(c,*))), member(c,f(b,f(a,f(b,f(a,*))))), member(b,f(a,*)), member(b,f(c,f(a,*))), member(a,f(c,f(b,*))), member(b,f(a,f(c,f(c,*)))), member(c,f(a,f(a,*))), member(b,f(a,f(c,f(a,f(c,*))))), member(c,f(a,*)), member(c,f(a,f(a,f(a,*)))), member(c,f(b,f(b,f(b,*)))), member(c,f(a,f(a,f(a,f(a,*))))), member(c,f(a,f(b,f(a,f(b,*))))), member(b,f(a,f(c,f(c,f(c,*))))), member(c,f(a,f(b,f(b,f(a,*))))), member(c,f(a,f(b,*))), member(a,f(c,f(c,f(b,f(b,*))))), member(b,f(a,*)), member(c,f(b,f(a,f(b,f(a,*))))), member(b,f(a,*)), member(a,f(b,*)), member(b,f(c,f(c,f(a,f(a,*))))), member(b,f(c,f(c,f(a,f(a,*))))), member(a,f(c,f(c,f(c,f(a,*)))))]\n",
      "======= BACKGROUND KNOWLEDGE  =======\n",
      "[member(a,f(a,*)), member(b,f(b,*)), member(c,f(c,*))]\n"
     ]
    }
   ],
   "source": [
    "test_size = 0.3\n",
    "du = DataUtils(problem)\n",
    "pos, neg, bk, clauses, lang = du.load_data()\n",
    "pos_train, pos_test = train_test_split(\n",
    "    pos, test_size=test_size, random_state=7014)\n",
    "neg_train, neg_test = train_test_split(\n",
    "    neg, test_size=test_size, random_state=7014)\n",
    "\n",
    "N_beam, T_beam, T, m = get_parameters(problem)\n",
    "\n",
    "### add noise\n",
    "pos_train_, neg_train_ = get_dataset_with_noise(pos_train, neg_train, noise_rate=noise_rate)\n",
    "ilp_train = ILPProblem(pos_train_, neg_train_, bk, lang, name=problem)\n",
    "ilp_train.print()"
   ]
  },
  {
   "cell_type": "code",
   "execution_count": 6,
   "metadata": {},
   "outputs": [],
   "source": [
    "CG = ClauseGenerator(ilp_train, infer_step=T, max_depth=1, max_body_len=1)\n",
    "solver = ILPSolver(ilp_train, C_0=clauses, CG=CG, m=m, infer_step=T)"
   ]
  },
  {
   "cell_type": "code",
   "execution_count": 7,
   "metadata": {
    "scrolled": false,
    "tags": []
   },
   "outputs": [
    {
     "name": "stdout",
     "output_type": "stream",
     "text": [
      "Generating clauses...\n",
      "======= BEAM SEARCHED CLAUSES ======\n",
      "member(X,X):-.\n",
      "member(X,Y):-.\n",
      "member(X,Y):-member(Y,X).\n",
      "member(X,f(X,Y)):-.\n",
      "member(X,f(Y,Z)):-.\n",
      "member(X,f(Y,Z)):-member(X,Z).\n",
      "member(X,f(Y,Z)):-member(Y,Z).\n",
      "Enumerating facts...\n",
      "Building tensors...\n"
     ]
    },
    {
     "name": "stderr",
     "output_type": "stream",
     "text": [
      "  1%|          | 11/2000 [00:00<00:18, 106.75it/s, loss=0.53] "
     ]
    },
    {
     "name": "stdout",
     "output_type": "stream",
     "text": [
      "Learning weights...\n"
     ]
    },
    {
     "name": "stderr",
     "output_type": "stream",
     "text": [
      "100%|██████████| 2000/2000 [00:14<00:00, 135.73it/s, loss=0.0197]  "
     ]
    },
    {
     "name": "stdout",
     "output_type": "stream",
     "text": [
      "====== LEARNED PROGRAM ======\n",
      "C_0:  member(X,f(X,Y)):-. 0.9619221091270447\n",
      "C_1:  member(X,f(Y,Z)):-member(X,Z). 0.9805846214294434\n"
     ]
    },
    {
     "name": "stderr",
     "output_type": "stream",
     "text": [
      "\n"
     ]
    }
   ],
   "source": [
    "N_max = 50 # maximum number of clauses\n",
    "lr = 1e-2\n",
    "epoch = 2000\n",
    "\n",
    "### train weights\n",
    "clauses, Ws, loss_list = solver.train(\n",
    "        gen_mode='beam', N_max=N_max, T_beam=T_beam, N_beam=N_beam, epoch=epoch, lr=lr, wd=0.0)"
   ]
  },
  {
   "cell_type": "code",
   "execution_count": 8,
   "metadata": {
    "scrolled": true
   },
   "outputs": [
    {
     "name": "stderr",
     "output_type": "stream",
     "text": [
      "<ipython-input-8-6dca77e7924e>:3: UserWarning: Matplotlib is currently using agg, which is a non-GUI backend, so cannot show the figure.\n",
      "  plt.show()\n"
     ]
    }
   ],
   "source": [
    "### plot training loss\n",
    "plt.plot(loss_list)\n",
    "plt.show()"
   ]
  },
  {
   "cell_type": "code",
   "execution_count": 9,
   "metadata": {},
   "outputs": [
    {
     "name": "stdout",
     "output_type": "stream",
     "text": [
      "Enumerating facts...\n",
      "Building tensors...\n",
      "====== TEST SCORE =======\n",
      "Mean-squared test error:  0.0007501581180717439\n",
      "AUC:  1.0\n"
     ]
    }
   ],
   "source": [
    "### evaluate on test data\n",
    "v_list, facts = solver.predict(pos_test, neg_test, clauses, Ws)\n",
    "mse = compute_mse(pos_test, neg_test, v_list, facts)\n",
    "auc = compute_auc(pos_test, neg_test, v_list, facts)\n",
    "\n",
    "print('====== TEST SCORE =======')\n",
    "print('Mean-squared test error: ', mse)\n",
    "print('AUC: ', auc)"
   ]
  },
  {
   "cell_type": "code",
   "execution_count": 23,
   "metadata": {},
   "outputs": [],
   "source": [
    "# Visualize v_0, v_1, ..., v_n after learning\n",
    "\n",
    "#v_list, facts = solver.get_valuation_memory(pos_test, neg_test, clauses, Ws)\n",
    "#ilp_test = ILPProblem(pos_test, neg_test, bk, lang, name=name)\n",
    "#vis = Visualize(ilp_test, name=name, facts=facts)\n",
    "#vis.plot_valuation_memory(v_list)"
   ]
  }
 ],
 "metadata": {
  "kernelspec": {
   "display_name": "Python 3",
   "language": "python",
   "name": "python3"
  },
  "language_info": {
   "codemirror_mode": {
    "name": "ipython",
    "version": 3
   },
   "file_extension": ".py",
   "mimetype": "text/x-python",
   "name": "python",
   "nbconvert_exporter": "python",
   "pygments_lexer": "ipython3",
   "version": "3.8.4"
  }
 },
 "nbformat": 4,
 "nbformat_minor": 2
}
